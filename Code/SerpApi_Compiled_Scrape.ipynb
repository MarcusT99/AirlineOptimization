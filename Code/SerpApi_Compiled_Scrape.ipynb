{
 "cells": [
  {
   "cell_type": "markdown",
   "id": "c89e4a05-6b48-43c5-86bd-9c81279bb37d",
   "metadata": {},
   "source": [
    "## <center>SerpApi Scraping Notebook</center>"
   ]
  },
  {
   "cell_type": "markdown",
   "id": "3ccf6657-a2c5-4d7a-a96a-a352d278e1de",
   "metadata": {},
   "source": [
    "### Necessary Installs"
   ]
  },
  {
   "cell_type": "code",
   "execution_count": 1,
   "id": "25e5a87e-2364-433b-b8c3-81ce960620bb",
   "metadata": {
    "tags": []
   },
   "outputs": [],
   "source": [
    "# for using the api itself\n",
    "#!pip install serpapi"
   ]
  },
  {
   "cell_type": "code",
   "execution_count": 2,
   "id": "6ab4602e-29fa-45a9-a42f-72b0438154d3",
   "metadata": {
    "tags": []
   },
   "outputs": [],
   "source": [
    "# for using the module to webscrap from api\n",
    "#!pip install google-search-results"
   ]
  },
  {
   "cell_type": "code",
   "execution_count": 4,
   "id": "93b0c8a2-5f56-4897-b833-907eaa347f1e",
   "metadata": {
    "tags": []
   },
   "outputs": [],
   "source": [
    "# to be able to get your location gps on a machine\n",
    "#!pip install geocoder"
   ]
  },
  {
   "cell_type": "markdown",
   "id": "b1c67ecf-cdb0-4c33-9ef5-bc8f494720a7",
   "metadata": {},
   "source": [
    "### Import Statements"
   ]
  },
  {
   "cell_type": "code",
   "execution_count": 6,
   "id": "0df000ae-c475-428d-b924-1749801b09ed",
   "metadata": {
    "tags": []
   },
   "outputs": [],
   "source": [
    "# use api \n",
    "from serpapi import GoogleSearch\n",
    "\n",
    "# get location on machine\n",
    "import geocoder\n",
    "\n",
    "# write to and manipulate excel files\n",
    "from openpyxl import load_workbook\n",
    "\n",
    "# standard imports\n",
    "import pandas as pd\n",
    "import numpy as np"
   ]
  },
  {
   "cell_type": "markdown",
   "id": "734e28a1-c22b-40a7-a662-a99faac47fce",
   "metadata": {},
   "source": [
    "### <center>Google Maps Scrap</center>"
   ]
  },
  {
   "cell_type": "code",
   "execution_count": 7,
   "id": "e131e680-f85e-40c1-97af-105b2ea2457a",
   "metadata": {
    "tags": []
   },
   "outputs": [],
   "source": [
    "# get current gps location\n",
    "# need for start point using google maps / directions\n",
    "def get_my_loc():\n",
    "    '''Takes no arguments, and outputs the device's current location in lat\n",
    "    and long.'''\n",
    "    \n",
    "    # me is the reference to your machine based on IP address\n",
    "    myloc = geocoder.ip('me')\n",
    "    \n",
    "    # tuple of location\n",
    "    return (myloc.latlng[0],myloc.latlng[1])"
   ]
  },
  {
   "cell_type": "code",
   "execution_count": 8,
   "id": "e37d184b-1e49-4782-9409-10401bf33f7f",
   "metadata": {
    "tags": []
   },
   "outputs": [],
   "source": [
    "# scrapes google maps to find the three closest airports\n",
    "# documentation: https://serpapi.com/google-maps-api\n",
    "# looks for international airports but search will provide the\n",
    "## \"larger\" airports and you can filter by airport tags later\n",
    "def map_scrap():\n",
    "    '''Takes no arguments and outputs the closest major airports.'''\n",
    "    \n",
    "    # unique key for David Allen, please use your own key\n",
    "    # limited to 100 scraps per month\n",
    "    my_key = \"7668a9aae9862cea0185da8e75acee37de62aa9e31acf0b7415c341c97aba1f1\"\n",
    "    \n",
    "    # use function to get current gps loc\n",
    "    lat,long = get_my_loc()\n",
    "    \n",
    "    # api search parameters, all inputs required to be str\n",
    "    params = {\n",
    "        \"engine\": \"google_maps\",                     # scraps google maps\n",
    "        \"q\": \"International airport\",                # looks for international aiports\n",
    "        \"ll\": \"@\"+str(lat)+\",\"+str(long)+\",\"+\"12z\",  # \"@lat,long,zoom level\n",
    "        \"hl\": \"en\",                                  # language of results\n",
    "        \"type\": \"search\",                            # look for close matches \n",
    "        \"api_key\": my_key}\n",
    "    \n",
    "    # get search results in JSON form\n",
    "    search = GoogleSearch(params)\n",
    "    results = search.get_dict()\n",
    "    \n",
    "    return results"
   ]
  },
  {
   "cell_type": "code",
   "execution_count": 9,
   "id": "e5bc1cfb-bbb5-46a1-9e97-0bd44e1ceb54",
   "metadata": {
    "tags": []
   },
   "outputs": [],
   "source": [
    "# takes results from google maps search and returns a human\n",
    "## readable dictionary of airport names to location\n",
    "# also cuts down JSON dictionary so only get three \n",
    "def near_port_locs(res_obj):\n",
    "    '''Takes a results object from a google maps scrap and outputs a  dict of the \n",
    "    three closest and major airports by name and lat,long.'''\n",
    "    \n",
    "    # initalize empty dict\n",
    "    port_loc_dict = dict()\n",
    "    \n",
    "    for i in range(0,len(res_obj['local_results'])):\n",
    "        \n",
    "        # airport types include: airport, regional airport and international airport\n",
    "        # only want ones with commerical flights, so filter out airport\n",
    "        if res_obj['local_results'][i]['type'] != 'Airport':\n",
    "            # format results to be strings that are easy to read\n",
    "            lat = float(res_obj['local_results'][i]['gps_coordinates']['latitude'])\n",
    "            lat = \"{:.4f}\".format(lat)\n",
    "            long = float(res_obj['local_results'][i]['gps_coordinates']['longitude'])\n",
    "            long = \"{:.4f}\".format(long)\n",
    "            port_loc_dict[res_obj['local_results'][i]['title']] = [lat,long]\n",
    "        \n",
    "        # stop once we get the closest major airports\n",
    "        # maps scrap is in order of distance, so we don't need to sort for that\n",
    "        # just filter out non-major ones in order presented\n",
    "        if len(port_loc_dict) == 3:\n",
    "            return port_loc_dict"
   ]
  },
  {
   "cell_type": "code",
   "execution_count": 10,
   "id": "10af3a2b-7d7b-42c2-81ed-53d5f6f71387",
   "metadata": {
    "tags": []
   },
   "outputs": [],
   "source": [
    "# scrapes google directions to get distances and travel time to airports\n",
    "# documentation: https://serpapi.com/google-maps-directions-api\n",
    "def direction_scrap(port_loc):\n",
    "    '''Takes the lat and long location of an airport and outputs the\n",
    "    google maps direction results object related to the airport from\n",
    "    the device's current location.'''\n",
    "    \n",
    "    # unique key for David Allen, please use your own key\n",
    "    # limited to 100 scraps per month\n",
    "    my_key = \"7668a9aae9862cea0185da8e75acee37de62aa9e31acf0b7415c341c97aba1f1\"\n",
    "    \n",
    "    # use function to get current gps loc\n",
    "    lat,long = get_my_loc()\n",
    "    \n",
    "    # api search parameters, all inputs required to be str\n",
    "    params = {\n",
    "        \"engine\": \"google_maps_directions\",         # google directions api\n",
    "        \"hl\": \"en\",                                 # results in english\n",
    "        \"travel_mode\": \"0\",                         # means \"by car\"\n",
    "        \"start_coords\": str(lat)+\",\"+str(long),     # your location in str form\n",
    "        \"end_coords\": port_loc[0]+\",\"+port_loc[1],  # location from maps of airport\n",
    "        \"distance_unit\": \"1\",                       # use miles as measurement of dist\n",
    "        \"api_key\": my_key}\n",
    "    \n",
    "    # get search results in JSON form\n",
    "    search = GoogleSearch(params)\n",
    "    results = search.get_dict()\n",
    "\n",
    "    return results"
   ]
  },
  {
   "cell_type": "code",
   "execution_count": 11,
   "id": "8e5dfabd-e846-493b-a260-e8b3d447c13b",
   "metadata": {
    "tags": []
   },
   "outputs": [],
   "source": [
    "# intermediate function to help convert string time of the form\n",
    "## \"1 hr 20 min\" to \"80\".\n",
    "# gets direction scrap times in same format as flight scrap times\n",
    "def conv_to_mins(time_str):\n",
    "    ''''Takes a string of hours and minutes and outputs the number of \n",
    "    total minutes.'''\n",
    "    \n",
    "    # how to split string\n",
    "    parts = time_str.split(' ')\n",
    "    \n",
    "    # initialize counter\n",
    "    total_min = 0\n",
    "    \n",
    "    # iterate through parts of string and convert each part\n",
    "    for i in range(0, len(parts), 2):\n",
    "        number = int(parts[i])\n",
    "        if 'hr' in parts[i+1]:\n",
    "            total_min += number * 60\n",
    "        elif 'min' in parts[i+1]:\n",
    "            total_min += number\n",
    "    \n",
    "    return str(total_min)"
   ]
  },
  {
   "cell_type": "code",
   "execution_count": 12,
   "id": "c088a145-d10d-428b-a959-73b92084279d",
   "metadata": {
    "tags": []
   },
   "outputs": [],
   "source": [
    "# thats right! you thought it was gone, but its not\n",
    "# calculates great circle distance between a set of lat and long coords\n",
    "def great_cdist(lat1,lon1,lat2,lon2):\n",
    "    \"\"\"Calculate the great circle distance in kilometers between two points \n",
    "    on the (specified in decimal degrees).\"\"\"\n",
    "    # units doesn't matter because we don't keep the distance\n",
    "    # only used to find closest match in a list of airports\n",
    "    \n",
    "    # convert decimal degrees to radians \n",
    "    lat1, lon1, lat2, lon2 = map(np.radians, [lat1, lon1, lat2, lon2])\n",
    "\n",
    "    # haversine formula \n",
    "    dlat = lat2 - lat1 \n",
    "    dlon = lon2 - lon1 \n",
    "    a = np.sin(dlat/2)**2 + np.cos(lat1) * np.cos(lat2) * np.sin(dlon/2)**2\n",
    "    c = 2 * np.arcsin(np.sqrt(a)) \n",
    "    \n",
    "    # radius of earth in kilometers\n",
    "    r = 6371 \n",
    "    \n",
    "    # return distance\n",
    "    return c * r"
   ]
  },
  {
   "cell_type": "code",
   "execution_count": 13,
   "id": "d49ab720-b478-4e0e-a2d0-fc077699372d",
   "metadata": {
    "tags": []
   },
   "outputs": [],
   "source": [
    "# used to get the matching three letter iata code for each airport\n",
    "# needed to translate a maps scrap -> flight scrap\n",
    "# originally tried string matching but multiple airports in US with\n",
    "## similiar spelling / names, but loc is unique enough\n",
    "def find_close_iata(lat,long):\n",
    "    \"\"\"Find the closest point to a given latitude and longitude in the dataframe\n",
    "    and return the value in the corresponding column labelled 'iata_code'.\"\"\"\n",
    "    \n",
    "    # read in csv file containing all US iata codes\n",
    "    # found at: https://datahub.io/core/airport-codes#pandas\n",
    "    ## cols = name, state, iata_code, lat, long\n",
    "    df = pd.read_csv(\"US_iata_codes.csv\")\n",
    "    lat = float(lat)\n",
    "    long = float(long)\n",
    "    \n",
    "    # calculate great circle dist for each coord pair\n",
    "    distances = df.apply(lambda row: great_cdist(lat, long, row['lat'], row['long']), axis=1)\n",
    "    \n",
    "    # find index of min dist \n",
    "    min_distance_index = distances.idxmin()\n",
    "    \n",
    "    # return the 'iata_code' for the location with the minimum distance\n",
    "    return df.loc[min_distance_index, 'iata_code']"
   ]
  },
  {
   "cell_type": "code",
   "execution_count": 14,
   "id": "40cc2447-b661-43a1-aac7-02e999dd2f64",
   "metadata": {
    "tags": []
   },
   "outputs": [],
   "source": [
    "# adds the calculated distance and iata code to the dict made\n",
    "## with near_port_loc function\n",
    "def get_port_dist(port_dict):\n",
    "    '''Takes a dictionary of airport names to lat long coords and outputs\n",
    "    a modified dictionary with iata code and distance added to the values.'''\n",
    "\n",
    "    # iterate over key and values of dict\n",
    "    for name,coord in port_dict.items():\n",
    "        temp_results = direction_scrap(coord)\n",
    "        dist = temp_results['directions'][0]['formatted_distance']\n",
    "        # has consistent str char in front that we don't need\n",
    "        # slices last 6 elements from it\n",
    "        dist = dist[:-6]\n",
    "        dur = temp_results['directions'][0]['formatted_duration']\n",
    "        dur = conv_to_mins(dur)\n",
    "        iata = find_close_iata(coord[0],coord[1])\n",
    "        port_dict[name] = [iata,dist,dur,coord[0],coord[1]]\n",
    "    \n",
    "    return port_dict"
   ]
  },
  {
   "cell_type": "code",
   "execution_count": 15,
   "id": "6f969ce6-a61d-4fad-888c-0df4778fc330",
   "metadata": {
    "tags": []
   },
   "outputs": [],
   "source": [
    "# build a df from the dict created in get_port_dst\n",
    "def build_dist_frame():\n",
    "    '''Takes no arguments and builds a dataframe of the three closests\n",
    "    major airports with the name as the index and the iata code, travel\n",
    "    distance, travel time and lat long coords as columns.'''\n",
    "    \n",
    "    # execute map scrap -> build temp dict -> build final dict\n",
    "    ## -> turn into df\n",
    "    res_obj = map_scrap()\n",
    "    port_dict = near_port_locs(res_obj)\n",
    "    modified_dict = get_port_dist(port_dict)\n",
    "    \n",
    "    port_df = pd.DataFrame.from_dict(modified_dict, orient = 'index', \n",
    "                columns = ['iata','travel_miles','travel_time','lat','long'])\n",
    "    \n",
    "    return port_df"
   ]
  },
  {
   "cell_type": "markdown",
   "id": "3264078a-3e06-4135-8691-5383b0d9984d",
   "metadata": {},
   "source": [
    "### <center>Google Flights Scrap</center>"
   ]
  },
  {
   "cell_type": "code",
   "execution_count": 17,
   "id": "d0cc1e2e-fa2a-43fc-b14d-e35854ecf497",
   "metadata": {},
   "outputs": [],
   "source": [
    "# function 1 to get a human readable airport names\n",
    "# scrap returns the arrival airport as a dictionary and\n",
    "## it has an id key that is what we want\n",
    "def get_IATA_id(row):\n",
    "    '''Checks if row contains a dict and the id key, and returns \n",
    "    the values paired with the id key.'''\n",
    "    \n",
    "    # is it a dict, does it have id key\n",
    "    if isinstance(row, dict) and 'id' in row:\n",
    "        return row['id'] # return value of k:v pair\n",
    "    \n",
    "    return row"
   ]
  },
  {
   "cell_type": "code",
   "execution_count": 18,
   "id": "64676288-c972-4f20-b8a0-e1ac1bde9170",
   "metadata": {},
   "outputs": [],
   "source": [
    "# apply the get_IATA_id function to every row in the df\n",
    "def chg_arr_dep(df):\n",
    "    '''Takes a dataframe and returns the dataframe with human readable \n",
    "    arrival and departure airport names.'''\n",
    "    \n",
    "    # does not need to return, as it changes df in place\n",
    "    for row in df:\n",
    "        df[row] = df[row].apply(get_IATA_id)"
   ]
  },
  {
   "cell_type": "code",
   "execution_count": 19,
   "id": "99451206-0a15-4a61-b399-d8d2a2c7da52",
   "metadata": {},
   "outputs": [],
   "source": [
    "# define function to create a multi-level index for flight dfs\n",
    "def make_multi(len_df,start_num):\n",
    "    '''Takes a the length of a df and the trip start num, builds a multi-level \n",
    "    index for it. The outer index is the Trip and the inner is the Legs.'''\n",
    "\n",
    "    # create Trip index based on a starting point and a df len\n",
    "    # needs to be variable based because we concat two dfs into\n",
    "    ## one later and it needs unique trip numbers\n",
    "    # constructs an array\n",
    "    outer = [\"Trip \" + str(start_num)]*len_df\n",
    "    \n",
    "    # each trip has a certain number of legs based on its length\n",
    "    # constructs an array\n",
    "    inner = [\"Leg \" + str(i) for i in range(1,len_df+1)]\n",
    "\n",
    "    # name indexes and use arrays constructed in function\n",
    "    multi_index = pd.MultiIndex.from_arrays([outer,inner], names = ['Trip', 'Leg'])\n",
    "\n",
    "    return multi_index"
   ]
  },
  {
   "cell_type": "code",
   "execution_count": 20,
   "id": "5010f110-15cd-43f1-a542-9e0a5ec61bef",
   "metadata": {},
   "outputs": [],
   "source": [
    "# create a function to concat and clean dfs built from google flights scrap\n",
    "def clean_concat(df1,df2):\n",
    "    '''Takes two dataframes consisting of google flights api data, concats them \n",
    "    and cleans them before return a single dataframe.'''\n",
    "\n",
    "    # drops values not needed in optimization model for two input dfs\n",
    "    # logo is a png image\n",
    "    # legroom is a measurement in inches\n",
    "    # extensions are trip \"upgrade\" packages\n",
    "    # airplane is the make and model of the aircraft\n",
    "    # travel_class is the type of seat; first, business etc\n",
    "    df1.drop(['airline_logo','legroom','extensions','airplane','travel_class'],\n",
    "            axis = 1, inplace = True)\n",
    "    \n",
    "    # need two inputs because google flights scrap puts the flight info in two\n",
    "    ## spots of the JSON dictionary, and the flight have variable structures\n",
    "    df2.drop(['airline_logo','legroom','extensions','airplane','travel_class'],\n",
    "            axis = 1, inplace = True)\n",
    "\n",
    "    # drop overnight col from both dfs, col of bool values if flight time\n",
    "    ## overlaps with midnight \n",
    "    if 'overnight' in df1.columns:\n",
    "        df1.drop('overnight', axis = 1, inplace = True)\n",
    "\n",
    "    elif 'overnight' in df2.columns:\n",
    "        df2.drop('overnight', axis = 1, inplace = True)\n",
    "\n",
    "    # concat both frames vertically and keep the custom indexes we built\n",
    "    clean_df = pd.concat([df1,df2], axis = 0, ignore_index = False)\n",
    "\n",
    "    return clean_df"
   ]
  },
  {
   "cell_type": "code",
   "execution_count": 85,
   "id": "969fc110-0bda-448b-8637-66f6fefad790",
   "metadata": {},
   "outputs": [],
   "source": [
    "# function to scrap google flights and build dfs from it\n",
    "# function to build dataframe from \"best_flights\" and \"other_flights\"\n",
    "def results_to_frame(res_obj):\n",
    "    '''Takes a results object from the google flights api and builds a df\n",
    "    for each best flight, each other flight and combines them. The resulting \n",
    "    df is cleaned and concatenated.'''\n",
    "\n",
    "    # google flights puts in two spots of the JSON dict (res_obj)\n",
    "    ## best_flights and other_flights are they keys\n",
    "    \n",
    "    # abbreviate key names in res_obj\n",
    "    bfs = 'best_flights'\n",
    "    ofs = 'other_flights'\n",
    "    fs = 'flights'\n",
    "    pr = 'price'\n",
    "    lo = 'layovers'\n",
    "    tdr = 'total_duration'\n",
    "    dr = 'duration'\n",
    "\n",
    "    # build df from \"best flights\"\n",
    "    # len gives number of flights in dict\n",
    "    num_fly1 = len(res_obj[bfs])\n",
    "    for i in range(0,num_fly1):\n",
    "        \n",
    "        # if first entry in dict\n",
    "        if i == 0:\n",
    "            # grab first element\n",
    "            best_df = pd.DataFrame(res_obj[bfs][0][fs])\n",
    "            # name cols\n",
    "            best_df['Trip_Price'] = res_obj[bfs][0][pr]\n",
    "            best_df['Trip_Duration'] = res_obj[bfs][0][tdr]\n",
    "            # fix name of airports\n",
    "            chg_arr_dep(best_df)\n",
    "            \n",
    "            # initialize empty dict for airport name: layover duration\n",
    "            lay_dict = {}\n",
    "            # len of this tells us the number of layovers, aka legs of the trip\n",
    "            for j in range(0,len(res_obj[bfs][0][lo])):\n",
    "                # associate the layover with the departure airport, that way you cant\n",
    "                ## have a layover before you take your first flight\n",
    "                lay_dict[res_obj[bfs][0][lo][j]['id']] = res_obj[bfs][0][lo][j][dr]\n",
    "            \n",
    "            # map the dict by airport name to the df\n",
    "            best_df['Layover_duration'] = best_df['departure_airport'].map(lay_dict)\n",
    "            # turn into multi-index df\n",
    "            best_df.index = make_multi(len(best_df),i+1)   \n",
    "        \n",
    "        # if not first entry\n",
    "        else:\n",
    "            # built the same as above with minor differences, only commenting\n",
    "            ## where it is different\n",
    "            temp_df = pd.DataFrame(res_obj[bfs][i][fs])\n",
    "            temp_df['Trip_Price'] = res_obj[bfs][i][pr]\n",
    "            temp_df['Trip_Duration'] = res_obj[bfs][i][tdr]\n",
    "            chg_arr_dep(temp_df)\n",
    "            \n",
    "            lay_dict = {}\n",
    "            for j in range(0,len(res_obj[bfs][i][lo])):\n",
    "                lay_dict[res_obj[bfs][i][lo][j]['id']] = res_obj[bfs][i][lo][j][dr]\n",
    "                \n",
    "            temp_df['Layover_duration'] = temp_df['departure_airport'].map(lay_dict)\n",
    "            temp_df.index = make_multi(len(temp_df),i+1)\n",
    "            # concat each temp df to the original one, keep the multi-index\n",
    "            best_df = pd.concat([best_df,temp_df], axis = 0, ignore_index = False)\n",
    "\n",
    "    # build df from \"other flights\"\n",
    "    # trip count is the \"start_num\" in the multi-index building function\n",
    "    # keeps track of where best_df left off\n",
    "    trip_count = len(res_obj[bfs])\n",
    "    \n",
    "    # very similiar to above, only commenting where different\n",
    "    num_fly2 = len(res_obj[ofs])\n",
    "    for i in range(0,num_fly2):\n",
    "        if i == 0:\n",
    "            othr_df = pd.DataFrame(res_obj[ofs][0][fs])\n",
    "            othr_df['Trip_Price'] = res_obj[ofs][0][pr]\n",
    "            othr_df['Trip_Duration'] = res_obj[ofs][0][tdr]\n",
    "            chg_arr_dep(othr_df)\n",
    "            \n",
    "            lay_dict = {}\n",
    "            for j in range(0,len(res_obj[ofs][0][lo])):\n",
    "                lay_dict[res_obj[ofs][0][lo][j]['id']] = res_obj[ofs][0][lo][j][dr]\n",
    "    \n",
    "            othr_df['Layover_duration'] = othr_df['departure_airport'].map(lay_dict)\n",
    "            othr_df.index = make_multi(len(othr_df),trip_count+1)   \n",
    "        \n",
    "        else:\n",
    "            temp_df = pd.DataFrame(res_obj[ofs][i][fs])\n",
    "            # some flights don't have prices after a certain point in the res_obj\n",
    "            # tested and its not by a constant index\n",
    "            # believe that google flights doesn't scrape for flights that are \n",
    "            ## far down its list (like the 100th flight down when manually searching)\n",
    "            if 'price' in list(res_obj[ofs][i].keys()):\n",
    "                temp_df['Trip_Price'] = res_obj[ofs][i][pr]\n",
    "                temp_df['Trip_Duration'] = res_obj[ofs][i][tdr]\n",
    "                chg_arr_dep(temp_df)\n",
    "            \n",
    "                lay_dict = {}\n",
    "                for j in range(0,len(res_obj[ofs][i][lo])):\n",
    "                    lay_dict[res_obj[ofs][i][lo][j]['id']] = res_obj[ofs][i][lo][j][dr]\n",
    "                \n",
    "                temp_df['Layover_duration'] = temp_df['departure_airport'].map(lay_dict)\n",
    "                temp_df.index = make_multi(len(temp_df),trip_count+i+1)   \n",
    "                othr_df = pd.concat([othr_df,temp_df], axis = 0, ignore_index = False)\n",
    "            \n",
    "            # if there isnt a price associated, we don't care and increase the counter\n",
    "            else:\n",
    "                i += 1\n",
    "\n",
    "    # use cleaning function with output            \n",
    "    return clean_concat(best_df,othr_df)"
   ]
  },
  {
   "cell_type": "code",
   "execution_count": 22,
   "id": "b6830664-9d01-466c-bb51-5b9ed39a2d0e",
   "metadata": {
    "tags": []
   },
   "outputs": [],
   "source": [
    "# function that actually does the flight scraping\n",
    "# alot of smaller functions are necessary to make this useful\n",
    "def flight_scrap(dep_port,arr_port,dep_date,pass_num,bag_num):\n",
    "    '''Takes a series of input parameters and produces a dataframe of flight options.\n",
    "    Inputs (all of str type)\n",
    "    dep_port: departure airport IATA code (\"MRY\")\n",
    "    arr_port: of arrival airport IATA code (\"BDL\")\n",
    "    dep_date: date of departure in YYYY-MM-DD format (\"2024-03-27\")\n",
    "    pass_num: number of people flying, assumed all adults (\"3\")\n",
    "    bag_num: number of checked bags (\"2\")'''\n",
    "    \n",
    "    # specific to a user (Dave Allen) in this case\n",
    "    # please use your own when scraping as there is a 100 scrap monthly limit\n",
    "    my_key = \"7668a9aae9862cea0185da8e75acee37de62aa9e31acf0b7415c341c97aba1f1\"\n",
    "    \n",
    "    # specified by api, see documentation for more detail on what each means\n",
    "    # source: https://serpapi.com/google-flights-api\n",
    "    # commented out params elements are optional\n",
    "    params = {\n",
    "        \"engine\": \"google_flights\",\n",
    "        \"departure_id\": dep_port,\n",
    "        \"arrival_id\": arr_port,\n",
    "        \"hl\": \"en\",\n",
    "        \"currency\": \"USD\",\n",
    "        \"type\": \"2\",\n",
    "        \"outbound_date\": dep_date,\n",
    "       #\"return_date\": None,\n",
    "        \"travel_class\": \"1\",\n",
    "        \"show_hidden\": \"true\",\n",
    "        \"adults\": pass_num,\n",
    "       #\"children\": \"0\",\n",
    "       #\"stops\": \"0\",\n",
    "       #\"exclude_airlines\": \"UA\",\n",
    "        \"bags\": bag_num,\n",
    "       #\"outbound_times\": \"4,8\"\n",
    "       #\"return_times\": \"2,3\"\n",
    "        \"api_key\": my_key}\n",
    "    \n",
    "    # uses func and method to make JSON dict\n",
    "    search = GoogleSearch(params)\n",
    "    results = search.get_dict()\n",
    "    \n",
    "    # feeds into function to build dict to df\n",
    "    # which cleans and concats, which uses all other funcs\n",
    "    return results_to_frame(results)"
   ]
  },
  {
   "cell_type": "markdown",
   "id": "4bc13270-ce87-44f0-b614-cab7e1aca228",
   "metadata": {},
   "source": [
    "### <center> Integrating Both Scraps</center>"
   ]
  },
  {
   "cell_type": "code",
   "execution_count": 107,
   "id": "4bfb89f8-ab63-4043-a4cc-9bb9a773dd39",
   "metadata": {
    "tags": []
   },
   "outputs": [],
   "source": [
    "# short helper function to save space in next function\n",
    "# needed because some elements of the flight dfs will come\n",
    "## back as lists, when they are more human readable as strs\n",
    "def convert_lists_to_strings(x):\n",
    "    return ', '.join(map(str, x)) if isinstance(x, list) else x"
   ]
  },
  {
   "cell_type": "code",
   "execution_count": 109,
   "id": "0e3710e7-05e5-448c-972d-d53bc399d0b2",
   "metadata": {
    "tags": []
   },
   "outputs": [],
   "source": [
    "# builds an excel file to feed into the optimization program\n",
    "# creates file in the cwd\n",
    "# important: counts as 7x scraps for each call!!\n",
    "# 1x maps, 3x directions, 3x flights\n",
    "# can quickly hit monthly 100x limit (30 day period, not calendar)\n",
    "def flight_options(arr_port,dep_date,pass_num,bag_num):\n",
    "    '''Takes the same input parameters as the flight_scrap function, and\n",
    "    executes that function before creating / exporting the resulting dfs\n",
    "    to an excel file.'''\n",
    "    \n",
    "    # call google maps overarching function\n",
    "    port_df = build_dist_frame()\n",
    "    \n",
    "    # get list of iata codes for easy slicing below\n",
    "    port_list = list(port_df['iata'])\n",
    "    \n",
    "    # iteratively call flight_scrap for each distinct arrival airport generated\n",
    "    ## by closest airports from map / direction scrap\n",
    "    # build as seperate dfs because they will go on diff excel sheets\n",
    "    flight_df1 = flight_scrap(port_list[0],arr_port,dep_date,pass_num,bag_num)\n",
    "    flight_df2 = flight_scrap(port_list[1],arr_port,dep_date,pass_num,bag_num)\n",
    "    flight_df3 = flight_scrap(port_list[2],arr_port,dep_date,pass_num,bag_num)\n",
    "    \n",
    "    # name output file\n",
    "    file_name = \"air_LP_data.xlsx\"\n",
    "    \n",
    "    # add airport dist df as first sheet\n",
    "    port_df.to_excel(file_name, index = True)\n",
    "\n",
    "    # map function to flight dfs\n",
    "    flight_df1 = flight_df1.applymap(convert_lists_to_strings)\n",
    "    flight_df2 = flight_df2.applymap(convert_lists_to_strings)\n",
    "    flight_df3 = flight_df3.applymap(convert_lists_to_strings)\n",
    "\n",
    "    # use openpyxl to create workbook\n",
    "    with pd.ExcelWriter(file_name, engine = 'openpyxl', mode = 'a', if_sheet_exists = 'replace') as writer:\n",
    "        # rename default sheet\n",
    "        writer.book.active.title = \"port_info\"\n",
    "        # write flight dfs to new sheets, name is the iata code\n",
    "        flight_df1.to_excel(writer, sheet_name = port_list[0], index = True)\n",
    "        flight_df2.to_excel(writer, sheet_name = port_list[1], index = True)\n",
    "        flight_df3.to_excel(writer, sheet_name = port_list[2], index = True)\n",
    "        \n",
    "    print(\"Excel File Built!\")"
   ]
  },
  {
   "cell_type": "code",
   "execution_count": 111,
   "id": "8273c1ee-8c26-4ea0-a7eb-ea8c05677e12",
   "metadata": {},
   "outputs": [
    {
     "name": "stderr",
     "output_type": "stream",
     "text": [
      "/var/folders/g4/tlvcm4416w7b8v44m15jzt200000gn/T/ipykernel_89700/3629316259.py:16: FutureWarning: DataFrame.applymap has been deprecated. Use DataFrame.map instead.\n",
      "  flight_df1 = flight_df1.applymap(convert_lists_to_strings)\n",
      "/var/folders/g4/tlvcm4416w7b8v44m15jzt200000gn/T/ipykernel_89700/3629316259.py:17: FutureWarning: DataFrame.applymap has been deprecated. Use DataFrame.map instead.\n",
      "  flight_df2 = flight_df2.applymap(convert_lists_to_strings)\n",
      "/var/folders/g4/tlvcm4416w7b8v44m15jzt200000gn/T/ipykernel_89700/3629316259.py:18: FutureWarning: DataFrame.applymap has been deprecated. Use DataFrame.map instead.\n",
      "  flight_df3 = flight_df3.applymap(convert_lists_to_strings)\n"
     ]
    },
    {
     "name": "stdout",
     "output_type": "stream",
     "text": [
      "Excel File Built!\n"
     ]
    }
   ],
   "source": [
    "# testing the code\n",
    "arr_port1 = \"BDL\"\n",
    "dep_date1 = \"2024-03-03\"\n",
    "pass_num1 = \"1\"\n",
    "bag_num1 = \"1\"\n",
    "\n",
    "# works! can see the new excel file in the cwd\n",
    "flight_options(arr_port1,dep_date1,pass_num1,bag_num1)"
   ]
  }
 ],
 "metadata": {
  "kernelspec": {
   "display_name": "Python 3 (ipykernel)",
   "language": "python",
   "name": "python3"
  },
  "language_info": {
   "codemirror_mode": {
    "name": "ipython",
    "version": 3
   },
   "file_extension": ".py",
   "mimetype": "text/x-python",
   "name": "python",
   "nbconvert_exporter": "python",
   "pygments_lexer": "ipython3",
   "version": "3.11.0"
  }
 },
 "nbformat": 4,
 "nbformat_minor": 5
}
