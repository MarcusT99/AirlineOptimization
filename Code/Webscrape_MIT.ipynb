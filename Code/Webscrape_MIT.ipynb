{
 "cells": [
  {
   "cell_type": "code",
   "execution_count": 1,
   "id": "170ec3f0-a378-47ea-8cef-76a98c83c614",
   "metadata": {
    "tags": []
   },
   "outputs": [
    {
     "name": "stdout",
     "output_type": "stream",
     "text": [
      "CSV file created successfully!\n"
     ]
    }
   ],
   "source": [
    "import requests\n",
    "from bs4 import BeautifulSoup\n",
    "import csv\n",
    "\n",
    "# Send an HTTP request to the URL\n",
    "url = \"https://web.mit.edu/airlinedata/www/2020%2012%20Month%20Documents/Profitability,%20Balance%20Sheet%20&%20Cash%20Flow/Income%20Statement/Net%20Income%20(Loss).htm\"\n",
    "response = requests.get(url)\n",
    "\n",
    "# Parse the HTML content\n",
    "soup = BeautifulSoup(response.text, 'html.parser')\n",
    "\n",
    "# Find the table containing the data\n",
    "table = soup.find('table')\n",
    "\n",
    "# Extract data from the table\n",
    "data = []\n",
    "for row in table.find_all('tr'):\n",
    "    row_data = [cell.get_text(strip=True) for cell in row.find_all(['td', 'th'])]\n",
    "    data.append(row_data)\n",
    "\n",
    "# Write data to CSV file using UTF-8 encoding\n",
    "with open('net_income.csv', 'w', newline='', encoding='utf-8') as csvfile:\n",
    "    writer = csv.writer(csvfile)\n",
    "    writer.writerows(data)\n",
    "\n",
    "print(\"CSV file created successfully!\")\n"
   ]
  },
  {
   "cell_type": "code",
   "execution_count": 2,
   "id": "22767a1b-30b5-4631-a496-28f7e458ccf2",
   "metadata": {
    "tags": []
   },
   "outputs": [
    {
     "name": "stdout",
     "output_type": "stream",
     "text": [
      "CSV file created successfully!\n"
     ]
    }
   ],
   "source": [
    "import requests\n",
    "from bs4 import BeautifulSoup\n",
    "import csv\n",
    "\n",
    "# Send an HTTP request to the URL\n",
    "url = \"https://web.mit.edu/airlinedata/www/2020%2012%20Month%20Documents/Traffic%20and%20Capacity/System%20Total/Total%20System%20Revenue%20Passenger%20Miles.htm\"\n",
    "response = requests.get(url)\n",
    "\n",
    "# Parse the HTML content\n",
    "soup = BeautifulSoup(response.text, 'html.parser')\n",
    "\n",
    "# Find the table containing the data\n",
    "table = soup.find('table')\n",
    "\n",
    "# Extract data from the table\n",
    "data = []\n",
    "for row in table.find_all('tr'):\n",
    "    row_data = [cell.get_text(strip=True) for cell in row.find_all(['td', 'th'])]\n",
    "    data.append(row_data)\n",
    "\n",
    "# Write data to CSV file using UTF-8 encoding\n",
    "with open('rpms.csv', 'w', newline='', encoding='utf-8') as csvfile:\n",
    "    writer = csv.writer(csvfile)\n",
    "    writer.writerows(data)\n",
    "\n",
    "print(\"CSV file created successfully!\")\n"
   ]
  },
  {
   "cell_type": "code",
   "execution_count": 3,
   "id": "fc7abe5f-f4d6-4b92-af41-5eba68e2e3e5",
   "metadata": {
    "tags": []
   },
   "outputs": [
    {
     "name": "stdout",
     "output_type": "stream",
     "text": [
      "CSV file created successfully!\n"
     ]
    }
   ],
   "source": [
    "import requests\n",
    "from bs4 import BeautifulSoup\n",
    "import csv\n",
    "\n",
    "# Send an HTTP request to the URL\n",
    "url = \"https://web.mit.edu/airlinedata/www/2020%2012%20Month%20Documents/Traffic%20and%20Capacity/System%20Total/System%20Total%20Enplaned%20Passengers.htm\"\n",
    "response = requests.get(url)\n",
    "\n",
    "# Parse the HTML content\n",
    "soup = BeautifulSoup(response.text, 'html.parser')\n",
    "\n",
    "# Find the table containing the data\n",
    "table = soup.find('table')\n",
    "\n",
    "# Extract data from the table\n",
    "data = []\n",
    "for row in table.find_all('tr'):\n",
    "    row_data = [cell.get_text(strip=True) for cell in row.find_all(['td', 'th'])]\n",
    "    data.append(row_data)\n",
    "\n",
    "# Write data to CSV file using UTF-8 encoding\n",
    "with open('passengers.csv', 'w', newline='', encoding='utf-8') as csvfile:\n",
    "    writer = csv.writer(csvfile)\n",
    "    writer.writerows(data)\n",
    "\n",
    "print(\"CSV file created successfully!\")\n"
   ]
  },
  {
   "cell_type": "code",
   "execution_count": null,
   "id": "48f5b1d1-ebd9-470a-aa68-19a87e7a5864",
   "metadata": {},
   "outputs": [],
   "source": []
  }
 ],
 "metadata": {
  "kernelspec": {
   "display_name": "Python 3 (ipykernel)",
   "language": "python",
   "name": "python3"
  },
  "language_info": {
   "codemirror_mode": {
    "name": "ipython",
    "version": 3
   },
   "file_extension": ".py",
   "mimetype": "text/x-python",
   "name": "python",
   "nbconvert_exporter": "python",
   "pygments_lexer": "ipython3",
   "version": "3.11.4"
  }
 },
 "nbformat": 4,
 "nbformat_minor": 5
}
