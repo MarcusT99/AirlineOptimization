{
 "cells": [
  {
   "cell_type": "code",
   "execution_count": 1,
   "metadata": {
    "tags": []
   },
   "outputs": [],
   "source": [
    "import pandas as pd, urllib.request\n",
    "import requests, os\n",
    "import bs4\n",
    "from urllib.parse import quote\n",
    "from pivottablejs import pivot_ui"
   ]
  },
  {
   "cell_type": "code",
   "execution_count": 9,
   "metadata": {
    "tags": []
   },
   "outputs": [
    {
     "name": "stdout",
     "output_type": "stream",
     "text": [
      "200\n"
     ]
    }
   ],
   "source": [
    "#go to link, check status code\n",
    "url = \"https://web.mit.edu/airlinedata/www/Employees&Productivity.html\"\n",
    "response = requests.get(url)\n",
    "print(response.status_code)\n",
    "# get a response object from the URL and use .get to get the HTML content\n",
    "response = urllib.request.urlopen('https://web.mit.edu/airlinedata/www/Employees&Productivity.html')\n",
    "response\n",
    "response.status\n",
    "res = requests.get('https://web.mit.edu/airlinedata/www/Employees&Productivity.html')\n",
    "AirlineSoup = bs4.BeautifulSoup(res.text, \"lxml\")\n",
    "#Isolate the href links that do not end in .xls\n",
    "link_list = AirlineSoup.find_all('a', href=lambda href: href and not href.endswith('.xls'))\n",
    "airline_table = link_list[30:-1]\n",
    "airline_table\n",
    "# Initialize an empty DataFrame for the combined results\n",
    "passenger_employee_ratio_2 = pd.DataFrame()\n",
    "\n",
    "# Loop through each item in airline_table\n",
    "for airline_info in airline_table:\n",
    "    url = airline_info['href']\n",
    "    # Encode the URL to handle spaces and other special characters\n",
    "    encoded_url = quote(url, safe=\"/:\")\n",
    "    # Concatenate the base URL with the encoded relative URL\n",
    "    full_url = 'https://web.mit.edu/airlinedata/www/' + encoded_url\n",
    "    # Use pd.read_html() with the encoded URL\n",
    "    df_list = pd.read_html(full_url)\n",
    "    if df_list:  # Check if the list is not empty\n",
    "        df = df_list[0]\n",
    "        # Get the airline name\n",
    "        Airline = df[0][1]\n",
    "        # Transpose the dataframe  \n",
    "        df = df.transpose()\n",
    "        # Isolate the 43rd through 49th columns and show all rows\n",
    "        df2 = df.iloc[:, 43:49]\n",
    "        df1 = df.iloc[:, 2]\n",
    "        # Combine the two dataframes\n",
    "        df3 = pd.concat([df1, df2], axis=1)\n",
    "        # Set the first row as the column headers\n",
    "        df3.columns = df3.iloc[0]\n",
    "        df3 = df3.drop(df3.index[0])\n",
    "        # Change first header to Year and change to int64 to handle NaN values\n",
    "        df3.columns.values[0] = 'Year'\n",
    "        df3['Year'] = df3['Year'].astype('Int64')\n",
    "        # Add airline column that duplicates the airline name\n",
    "        df3['Airline'] = Airline\n",
    "        # Only keep years from 2009 to 2019\n",
    "        df3 = df3[(df3['Year'] >= 2009) & (df3['Year'] <= 2019)]\n",
    "        # Append the processed DataFrame to the cumulative DataFrame\n",
    "        passenger_employee_ratio_2 = pd.concat([passenger_employee_ratio_2, df3], ignore_index=True)\n",
    "\n",
    "airline_list = ['American Airlines', 'Delta Airlines', 'United Airlines', 'Southwest Airlines', 'Jetblue Airways', 'Frontier Airlines', 'Allegiant Air', 'Alaska Airlines', 'Hawaian Airlines', 'Spirit Airlines']\n",
    "#only keep rows with the required airline values\n",
    "passenger_employee_ratio_2 = passenger_employee_ratio_2[passenger_employee_ratio_2['Airline'].isin(airline_list)]\n",
    "#in the airlines column remove all characters after the first space\n",
    "passenger_employee_ratio_2['Airline'] = passenger_employee_ratio_2['Airline'].str.split(' ').str[0]\n",
    "#uppercase the column names\n",
    "passenger_employee_ratio_2.columns = passenger_employee_ratio_2.columns.str.upper()\n",
    "#change airline column to CARRIER\n",
    "passenger_employee_ratio_2 = passenger_employee_ratio_2.rename(columns={'AIRLINE': 'CARRIER'})\n",
    "#create csv file of passenger_employee_ratio_2 and save it to the current working directory. index is carrier\n",
    "passenger_employee_ratio_2.to_csv('passenger_employee_ratio_cleaned.csv', index='CARRIER')"
   ]
  },
  {
   "cell_type": "code",
   "execution_count": 9,
   "metadata": {
    "tags": []
   },
   "outputs": [
    {
     "data": {
      "text/html": [
       "\n",
       "        <iframe\n",
       "            width=\"100%\"\n",
       "            height=\"500\"\n",
       "            src=\"pivottablejs.html\"\n",
       "            frameborder=\"0\"\n",
       "            allowfullscreen\n",
       "            \n",
       "        ></iframe>\n",
       "        "
      ],
      "text/plain": [
       "<IPython.lib.display.IFrame at 0x1eb0a3e21d0>"
      ]
     },
     "execution_count": 9,
     "metadata": {},
     "output_type": "execute_result"
    }
   ],
   "source": [
    "pivot_ui(passenger_employee_ratio_2)"
   ]
  },
  {
   "cell_type": "code",
   "execution_count": null,
   "metadata": {},
   "outputs": [],
   "source": []
  }
 ],
 "metadata": {
  "kernelspec": {
   "display_name": "Python 3 (ipykernel)",
   "language": "python",
   "name": "python3"
  },
  "language_info": {
   "codemirror_mode": {
    "name": "ipython",
    "version": 3
   },
   "file_extension": ".py",
   "mimetype": "text/x-python",
   "name": "python",
   "nbconvert_exporter": "python",
   "pygments_lexer": "ipython3",
   "version": "3.11.8"
  }
 },
 "nbformat": 4,
 "nbformat_minor": 4
}
